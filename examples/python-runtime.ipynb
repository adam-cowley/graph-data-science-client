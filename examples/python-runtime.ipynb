{
 "cells": [
  {
   "cell_type": "code",
   "execution_count": null,
   "metadata": {},
   "outputs": [],
   "source": [
    "# Make sure you have installed the custom GDS Client distributed with this notebook\n",
    "from graphdatascience import GraphDataScience"
   ]
  },
  {
   "cell_type": "code",
   "execution_count": null,
   "metadata": {},
   "outputs": [],
   "source": [
    "# From the Aura Console, get the Connection URI to your Neo4j instance and paste here\n",
    "URI = \"neo4j+s://<dbid>-mlruntimedev.databases.neo4j-dev.io\"\n",
    "# And paste the database password here\n",
    "PASSWORD = \"\""
   ]
  },
  {
   "cell_type": "code",
   "execution_count": null,
   "metadata": {},
   "outputs": [],
   "source": [
    "# The usual GDS client initialization\n",
    "gds = GraphDataScience(URI, auth=(\"neo4j\", PASSWORD))\n",
    "gds.set_database(\"neo4j\")"
   ]
  },
  {
   "cell_type": "code",
   "execution_count": null,
   "metadata": {},
   "outputs": [],
   "source": [
    "# We will load the Cora dataset\n",
    "# The progress bar is sometimes wonky; don't worry about it\n",
    "try:\n",
    "    gds.graph.load_cora()\n",
    "except:\n",
    "    pass"
   ]
  },
  {
   "cell_type": "code",
   "execution_count": null,
   "metadata": {},
   "outputs": [],
   "source": [
    "# The graph import is completed when this command returns a non-empty list\n",
    "gds.graph.list()"
   ]
  },
  {
   "cell_type": "markdown",
   "metadata": {
    "collapsed": false
   },
   "source": [
    "# GNN training!\n",
    "\n",
    "And now for the exciting stuff!\n",
    "In the next cell, you will start a GNN training job.\n",
    "In actuality, it is a PyTorch-Geometric GraphSAGE model being trained.\n",
    "It happens asynchronously, so it will return immediately (unless there's an unexpected error 😱).\n",
    "Of course, the training does not complete instantly, so you will have to wait for it to finish.\n",
    "\n",
    "TODO: instructions for inspecting the log\n",
    "\n",
    "## GraphSAGE parameters\n",
    "\n",
    "We have exposed several parameters of the PyG GraphSAGE model.\n",
    "\n",
    "| Parameter       | Default  | Description |\n",
    "|-----------------|----------|-------------|\n",
    "| layer_config    | {}       | ???         |\n",
    "| num_neighbors   | [25, 10] | ???         |\n",
    "| dropout         | 0.5      | ???         |\n",
    "| hidden_channels | 256      | ???         |\n",
    "| learning_rate   | 0.003    | ???         |\n",
    "\n",
    "Please try to use any of them with any useful values.\n"
   ]
  },
  {
   "cell_type": "code",
   "execution_count": null,
   "metadata": {},
   "outputs": [],
   "source": [
    "# Let's train!\n",
    "train_response = gds.gnn.nodeClassification.train(\n",
    "    \"cora\", \"myModel\", [\"features\"], \"subject\", [\"CITES\"], target_node_label=\"Paper\", node_labels=[\"Paper\"]\n",
    ")"
   ]
  },
  {
   "cell_type": "code",
   "execution_count": null,
   "metadata": {},
   "outputs": [],
   "source": [
    "# Once the train is completed, we can retrieve the training result (metrics)\n",
    "train_result = gds.run_cypher(\"RETURN gds.remoteml.getTrainResult('myModel')\");"
   ]
  },
  {
   "cell_type": "code",
   "execution_count": null,
   "metadata": {},
   "outputs": [],
   "source": [
    "# And display it\n",
    "train_result"
   ]
  },
  {
   "cell_type": "markdown",
   "metadata": {
    "collapsed": false
   },
   "source": [
    "# GNN prediction!\n",
    "\n",
    "Wow, that was cool.\n",
    "But training a model is only half the picture.\n",
    "We also have to use it for something.\n",
    "In this case, we will use it to predict the subject of papers in the Cora dataset.\n",
    "\n",
    "Again, this call is asynchronous, so it will return immediately.\n",
    "\n",
    "TODO: instructions for inspecting the log\n",
    "\n",
    "Once the prediction is completed, the predicted classes are added to GDS Graph Catalog (as per normal).\n",
    "We can retrieve the prediction result (the predictions themselves) by streaming from the graph.\n"
   ]
  },
  {
   "cell_type": "code",
   "execution_count": null,
   "metadata": {},
   "outputs": [],
   "source": [
    "# Let's trigger prediction!\n",
    "predict_result = gds.gnn.nodeClassification.predict(\"cora\", \"myModel\", \"myPredictions\")"
   ]
  },
  {
   "cell_type": "code",
   "execution_count": null,
   "metadata": {},
   "outputs": [],
   "source": [
    "# Let's get a graph object\n",
    "cora = gds.graph.get(\"cora\")"
   ]
  },
  {
   "cell_type": "code",
   "execution_count": null,
   "metadata": {},
   "outputs": [],
   "source": [
    "# Now for some standard GDS stuff; streaming properties from the graph\n",
    "predictions = gds.graph.nodeProperties.stream(\n",
    "    cora, node_properties=[\"features\", \"myPredictions\"], separate_property_columns=True\n",
    ")"
   ]
  },
  {
   "cell_type": "code",
   "execution_count": null,
   "metadata": {},
   "outputs": [],
   "source": [
    "# And displaying them\n",
    "predictions"
   ]
  },
  {
   "cell_type": "markdown",
   "metadata": {
    "collapsed": false
   },
   "source": [
    "# And that's it!\n",
    "\n",
    "Thank you very much for participating in the testing.\n",
    "We hope you enjoyed it.\n",
    "If you've run the notebook for the first time, now's the time to experiment and changing graph, training parameters, etc.\n",
    "If you're feeling like you're done, please reach back to the Google Document and fill in our feedback form.\n",
    "\n",
    "Thank you!"
   ]
  }
 ],
 "metadata": {
  "language_info": {
   "name": "python"
  }
 },
 "nbformat": 4,
 "nbformat_minor": 0
}
